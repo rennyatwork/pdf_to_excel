{
  "nbformat": 4,
  "nbformat_minor": 0,
  "metadata": {
    "colab": {
      "provenance": []
    },
    "kernelspec": {
      "name": "python3",
      "display_name": "Python 3"
    },
    "language_info": {
      "name": "python"
    }
  },
  "cells": [
    {
      "cell_type": "code",
      "execution_count": 1,
      "metadata": {
        "colab": {
          "base_uri": "https://localhost:8080/"
        },
        "id": "PvKUjN4qCQ47",
        "outputId": "7800dc8a-d7c9-4423-bd27-2902fc952e98"
      },
      "outputs": [
        {
          "output_type": "stream",
          "name": "stdout",
          "text": [
            "Collecting tabula-py\n",
            "  Downloading tabula_py-2.7.0-py3-none-any.whl (12.0 MB)\n",
            "\u001b[2K     \u001b[90m━━━━━━━━━━━━━━━━━━━━━━━━━━━━━━━━━━━━━━━━\u001b[0m \u001b[32m12.0/12.0 MB\u001b[0m \u001b[31m24.9 MB/s\u001b[0m eta \u001b[36m0:00:00\u001b[0m\n",
            "\u001b[?25hRequirement already satisfied: pandas in /usr/local/lib/python3.10/dist-packages (1.5.3)\n",
            "Requirement already satisfied: numpy in /usr/local/lib/python3.10/dist-packages (from tabula-py) (1.22.4)\n",
            "Requirement already satisfied: distro in /usr/lib/python3/dist-packages (from tabula-py) (1.7.0)\n",
            "Requirement already satisfied: python-dateutil>=2.8.1 in /usr/local/lib/python3.10/dist-packages (from pandas) (2.8.2)\n",
            "Requirement already satisfied: pytz>=2020.1 in /usr/local/lib/python3.10/dist-packages (from pandas) (2022.7.1)\n",
            "Requirement already satisfied: six>=1.5 in /usr/local/lib/python3.10/dist-packages (from python-dateutil>=2.8.1->pandas) (1.16.0)\n",
            "Installing collected packages: tabula-py\n",
            "Successfully installed tabula-py-2.7.0\n"
          ]
        }
      ],
      "source": [
        "!pip install tabula-py pandas\n",
        "\n"
      ]
    },
    {
      "cell_type": "code",
      "source": [
        "import tabula\n",
        "import pandas as pd\n"
      ],
      "metadata": {
        "id": "_Nlo4WH1IIzP"
      },
      "execution_count": 2,
      "outputs": []
    },
    {
      "cell_type": "code",
      "source": [
        "def convert_pdf_to_dataframe(p_arr_chemin_pdf, p_debug=True):\n",
        "\n",
        "  # Initialize an empty DataFrame to store the split values\n",
        "  new_df = pd.DataFrame()\n",
        "\n",
        "  ## dataframe containing pdf name and dataframe\n",
        "  dict_file_df = {}\n",
        "  for pdf_path in (p_arr_chemin_pdf):\n",
        "    # Extract tables from the PDF into a list of DataFrames\n",
        "    tables = tabula.read_pdf(pdf_path, pages='all', multiple_tables=True)\n",
        "\n",
        "    # The 'tables' list contains extracted DataFrames\n",
        "    # You might need to inspect the list and identify which DataFrame you want\n",
        "\n",
        "    print ('[Columns]: ', tables[0].columns)\n",
        "\n",
        "    # For example, let's assume you want the first DataFrame\n",
        "    selected_df = tables[0]\n",
        "\n",
        "    # Iterate through each column and split the values\n",
        "    for column in selected_df.columns:\n",
        "      split_values = selected_df[column].str.split('\\r')\n",
        "      if (p_debug):\n",
        "        print ('[split values]: ', split_values)\n",
        "        print ('[LEN split values]: ', len(split_values))\n",
        "        print ('[columns]: ', column)\n",
        "\n",
        "      if len(split_values)==1:\n",
        "        new_df[column.replace('\\r', ' ')] = [item for sublist in split_values for item in sublist]\n",
        "\n",
        "    # Display the new DataFrame\n",
        "    print(\"Path = \", pdf_path)\n",
        "    print(new_df)\n",
        "\n",
        "    dict_file_df[pdf_path] = selected_df"
      ],
      "metadata": {
        "id": "PO1JTm5SIYTO"
      },
      "execution_count": 3,
      "outputs": []
    },
    {
      "cell_type": "code",
      "source": [
        "#paths = ['https://www.ccq.org/-/media/Project/Ccq/Ccq-Website/PDF/Recherche/StatistiquesHistoriques/2022/B1.pdf?la=fr-CA&rev=0ef0d583ed9f4a08868ebdc7ae2a64c5'\n",
        "#, 'https://www.ccq.org/-/media/Project/Ccq/Ccq-Website/PDF/Recherche/StatistiquesHistoriques/2022/B2.pdf?la=fr-CA&rev=48a16c9556e64f7abb2264f371d7710e']\n",
        "\n",
        "#b1\n",
        "#paths = ['https://www.ccq.org/-/media/Project/Ccq/Ccq-Website/PDF/Recherche/StatistiquesHistoriques/2022/B1.pdf?la=fr-CA&rev=0ef0d583ed9f4a08868ebdc7ae2a64c5']\n",
        "\n",
        "\n",
        "#c1\n",
        "#paths = ['https://www.ccq.org/-/media/Project/Ccq/Ccq-Website/PDF/Recherche/StatistiquesHistoriques/2022/C5.pdf?la=fr-CA&rev=e095a0896fdc44a787d2aba62d165004']\n",
        "#convert_pdf_to_dataframe(paths)\n",
        "\n",
        "##c5\n",
        "#paths = ['https://www.ccq.org/-/media/Project/Ccq/Ccq-Website/PDF/Recherche/StatistiquesHistoriques/2022/C5.pdf?la=fr-CA&rev=e095a0896fdc44a787d2aba62d165004']\n",
        "#convert_pdf_to_dataframe(paths)\n",
        "\n",
        "##c5\n",
        "paths = ['https://www.ccq.org/-/media/Project/Ccq/Ccq-Website/PDF/Recherche/StatistiquesHistoriques/2022/B1.pdf?la=fr-CA&rev=0ef0d583ed9f4a08868ebdc7ae2a64c5',\n",
        "        'https://www.ccq.org/-/media/Project/Ccq/Ccq-Website/PDF/Recherche/StatistiquesHistoriques/2022/C5.pdf?la=fr-CA&rev=e095a0896fdc44a787d2aba62d165004' ,\n",
        "         'https://www.ccq.org/-/media/Project/Ccq/Ccq-Website/PDF/Recherche/StatistiquesHistoriques/2022/C2.pdf?la=fr-CA&rev=a160403b9bbd4483b11cf5b78fc39406',\n",
        "         'https://www.ccq.org/-/media/Project/Ccq/Ccq-Website/PDF/Recherche/StatistiquesHistoriques/2022/C5.pdf?la=fr-CA&rev=e095a0896fdc44a787d2aba62d165004']\n",
        "convert_pdf_to_dataframe(paths, p_debug=False)"
      ],
      "metadata": {
        "colab": {
          "base_uri": "https://localhost:8080/"
        },
        "id": "tOgks__bJ3ig",
        "outputId": "bef45b67-1e1c-46c2-ae39-04a38867461e"
      },
      "execution_count": null,
      "outputs": [
        {
          "output_type": "stream",
          "name": "stdout",
          "text": [
            "[Columns]:  Index(['Année', 'Nombre\\rd'employeurs',\n",
            "       'Nombre mensuel\\rmoyen de salariés\\rpar employeur1',\n",
            "       '% des employeurs\\rayant 5 salariés\\rou moins1',\n",
            "       'Moyenne des heures\\rpar employeur'],\n",
            "      dtype='object')\n",
            "Path =  https://www.ccq.org/-/media/Project/Ccq/Ccq-Website/PDF/Recherche/StatistiquesHistoriques/2022/B1.pdf?la=fr-CA&rev=0ef0d583ed9f4a08868ebdc7ae2a64c5\n",
            "  Année Nombre d'employeurs Nombre mensuel moyen de salariés par employeur1  \\\n",
            "0  2013              25 830                                             5,0   \n",
            "1  2014              25 855                                             4,9   \n",
            "2  2015              25 862                                             4,7   \n",
            "3  2016              25 875                                             4,6   \n",
            "4  2017              25 802                                             4,7   \n",
            "5  2018              25 915                                             5,0   \n",
            "6  2019              26 087                                             5,3   \n",
            "7  2020              25 909                                             5,1   \n",
            "8  2021              26 685                                             5,5   \n",
            "9  2022              27 219                                             5,7   \n",
            "\n",
            "  % des employeurs ayant 5 salariés ou moins1 Moyenne des heures par employeur  \n",
            "0                                         82%                            6 005  \n",
            "1                                         83%                            5 787  \n",
            "2                                         83%                            5 437  \n",
            "3                                         84%                            5 620  \n",
            "4                                         83%                            5 750  \n",
            "5                                         82%                            6 291  \n",
            "6                                         81%                            6 800  \n",
            "7                                         81%                            6 268  \n",
            "8                                         80%                            7 367  \n",
            "9                                         79%                            7 724  \n",
            "[Columns]:  Index(['Région', '2013', '2014', '2015', '2016', '2017', '2018', '2019',\n",
            "       '2020', '2021', '2022'],\n",
            "      dtype='object')\n",
            "Path =  https://www.ccq.org/-/media/Project/Ccq/Ccq-Website/PDF/Recherche/StatistiquesHistoriques/2022/C5.pdf?la=fr-CA&rev=e095a0896fdc44a787d2aba62d165004\n",
            "  Année Nombre d'employeurs Nombre mensuel moyen de salariés par employeur1  \\\n",
            "0  2013              25 830                                             5,0   \n",
            "1  2014              25 855                                             4,9   \n",
            "2  2015              25 862                                             4,7   \n",
            "3  2016              25 875                                             4,6   \n",
            "4  2017              25 802                                             4,7   \n",
            "5  2018              25 915                                             5,0   \n",
            "6  2019              26 087                                             5,3   \n",
            "7  2020              25 909                                             5,1   \n",
            "8  2021              26 685                                             5,5   \n",
            "9  2022              27 219                                             5,7   \n",
            "\n",
            "  % des employeurs ayant 5 salariés ou moins1 Moyenne des heures par employeur  \n",
            "0                                         82%                            6 005  \n",
            "1                                         83%                            5 787  \n",
            "2                                         83%                            5 437  \n",
            "3                                         84%                            5 620  \n",
            "4                                         83%                            5 750  \n",
            "5                                         82%                            6 291  \n",
            "6                                         81%                            6 800  \n",
            "7                                         81%                            6 268  \n",
            "8                                         80%                            7 367  \n",
            "9                                         79%                            7 724  \n",
            "[Columns]:  Index(['Unnamed: 0', 'Génie civil', 'Unnamed: 1', 'Institutionnel et',\n",
            "       'Unnamed: 2', 'Unnamed: 3'],\n",
            "      dtype='object')\n",
            "Path =  https://www.ccq.org/-/media/Project/Ccq/Ccq-Website/PDF/Recherche/StatistiquesHistoriques/2022/C2.pdf?la=fr-CA&rev=a160403b9bbd4483b11cf5b78fc39406\n",
            "  Année Nombre d'employeurs Nombre mensuel moyen de salariés par employeur1  \\\n",
            "0  2013              25 830                                             5,0   \n",
            "1  2014              25 855                                             4,9   \n",
            "2  2015              25 862                                             4,7   \n",
            "3  2016              25 875                                             4,6   \n",
            "4  2017              25 802                                             4,7   \n",
            "5  2018              25 915                                             5,0   \n",
            "6  2019              26 087                                             5,3   \n",
            "7  2020              25 909                                             5,1   \n",
            "8  2021              26 685                                             5,5   \n",
            "9  2022              27 219                                             5,7   \n",
            "\n",
            "  % des employeurs ayant 5 salariés ou moins1 Moyenne des heures par employeur  \n",
            "0                                         82%                            6 005  \n",
            "1                                         83%                            5 787  \n",
            "2                                         83%                            5 437  \n",
            "3                                         84%                            5 620  \n",
            "4                                         83%                            5 750  \n",
            "5                                         82%                            6 291  \n",
            "6                                         81%                            6 800  \n",
            "7                                         81%                            6 268  \n",
            "8                                         80%                            7 367  \n",
            "9                                         79%                            7 724  \n",
            "[Columns]:  Index(['Région', '2013', '2014', '2015', '2016', '2017', '2018', '2019',\n",
            "       '2020', '2021', '2022'],\n",
            "      dtype='object')\n",
            "Path =  https://www.ccq.org/-/media/Project/Ccq/Ccq-Website/PDF/Recherche/StatistiquesHistoriques/2022/C5.pdf?la=fr-CA&rev=e095a0896fdc44a787d2aba62d165004\n",
            "  Année Nombre d'employeurs Nombre mensuel moyen de salariés par employeur1  \\\n",
            "0  2013              25 830                                             5,0   \n",
            "1  2014              25 855                                             4,9   \n",
            "2  2015              25 862                                             4,7   \n",
            "3  2016              25 875                                             4,6   \n",
            "4  2017              25 802                                             4,7   \n",
            "5  2018              25 915                                             5,0   \n",
            "6  2019              26 087                                             5,3   \n",
            "7  2020              25 909                                             5,1   \n",
            "8  2021              26 685                                             5,5   \n",
            "9  2022              27 219                                             5,7   \n",
            "\n",
            "  % des employeurs ayant 5 salariés ou moins1 Moyenne des heures par employeur  \n",
            "0                                         82%                            6 005  \n",
            "1                                         83%                            5 787  \n",
            "2                                         83%                            5 437  \n",
            "3                                         84%                            5 620  \n",
            "4                                         83%                            5 750  \n",
            "5                                         82%                            6 291  \n",
            "6                                         81%                            6 800  \n",
            "7                                         81%                            6 268  \n",
            "8                                         80%                            7 367  \n",
            "9                                         79%                            7 724  \n"
          ]
        }
      ]
    },
    {
      "cell_type": "code",
      "source": [
        "selected_df.shape"
      ],
      "metadata": {
        "colab": {
          "base_uri": "https://localhost:8080/"
        },
        "id": "gxT4xiIMD2n9",
        "outputId": "8c0a0831-ed55-46dc-e259-77d8652cec1c"
      },
      "execution_count": null,
      "outputs": [
        {
          "output_type": "execute_result",
          "data": {
            "text/plain": [
              "(1, 5)"
            ]
          },
          "metadata": {},
          "execution_count": 41
        }
      ]
    },
    {
      "cell_type": "code",
      "source": [
        "#!pip install tabula\n",
        "#!pip install tabula-py pandas\n"
      ],
      "metadata": {
        "colab": {
          "base_uri": "https://localhost:8080/",
          "height": 324
        },
        "id": "H1-yp3-TC8gK",
        "outputId": "765edd66-215f-4a51-d9a7-c08ad47dd772"
      },
      "execution_count": null,
      "outputs": [
        {
          "output_type": "stream",
          "name": "stdout",
          "text": [
            "Collecting tabula-py\n",
            "  Downloading tabula_py-2.7.0-py3-none-any.whl (12.0 MB)\n",
            "\u001b[2K     \u001b[90m━━━━━━━━━━━━━━━━━━━━━━━━━━━━━━━━━━━━━━━━\u001b[0m \u001b[32m12.0/12.0 MB\u001b[0m \u001b[31m18.9 MB/s\u001b[0m eta \u001b[36m0:00:00\u001b[0m\n",
            "\u001b[?25hRequirement already satisfied: pandas in /usr/local/lib/python3.10/dist-packages (1.5.3)\n",
            "Requirement already satisfied: numpy in /usr/local/lib/python3.10/dist-packages (from tabula-py) (1.22.4)\n",
            "Requirement already satisfied: distro in /usr/lib/python3/dist-packages (from tabula-py) (1.7.0)\n",
            "Requirement already satisfied: python-dateutil>=2.8.1 in /usr/local/lib/python3.10/dist-packages (from pandas) (2.8.2)\n",
            "Requirement already satisfied: pytz>=2020.1 in /usr/local/lib/python3.10/dist-packages (from pandas) (2022.7.1)\n",
            "Requirement already satisfied: six>=1.5 in /usr/local/lib/python3.10/dist-packages (from python-dateutil>=2.8.1->pandas) (1.16.0)\n",
            "Installing collected packages: tabula-py\n",
            "Successfully installed tabula-py-2.7.0\n"
          ]
        },
        {
          "output_type": "display_data",
          "data": {
            "application/vnd.colab-display-data+json": {
              "pip_warning": {
                "packages": [
                  "tabula"
                ]
              }
            }
          },
          "metadata": {}
        }
      ]
    },
    {
      "cell_type": "code",
      "source": [],
      "metadata": {
        "id": "y-ccys0jHzNh"
      },
      "execution_count": null,
      "outputs": []
    },
    {
      "cell_type": "code",
      "source": [],
      "metadata": {
        "id": "Ku6HK4lUDSlZ"
      },
      "execution_count": null,
      "outputs": []
    }
  ]
}